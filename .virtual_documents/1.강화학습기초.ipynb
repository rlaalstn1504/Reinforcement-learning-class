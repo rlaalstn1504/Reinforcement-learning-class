











!pip install gym


import gym
import matplotlib.pyplot as plt
from IPython.display import display, clear_output

# 환경 생성
env = gym.make('CartPole-v1')

# 환경 초기화
state = env.reset()

# 환경 시뮬레이션 실행
done = False
total_reward = 0

# 시각화를 위한 설정
fig = plt.figure(figsize=(8, 6))
ax = fig.add_subplot(111)

while not done:
    # 랜덤 행동 선택
    action = env.action_space.sample()  # 행동을 랜덤으로 선택

    # 환경에 행동을 적용하고 결과를 받음
    next_state, reward, done, info = env.step(action)

    # 총 보상에 추가
    total_reward += reward

    # 화면에 환경을 렌더링 (matplotlib 사용)
    ax.clear()
    ax.imshow(env.render(mode='rgb_array'))  # 화면을 이미지로 반환
    ax.set_title(f"Total Reward: {total_reward}")
    display(fig)

    # 이전 출력 지우기
    clear_output(wait=True)

# 시뮬레이션 종료 후 총 보상 출력
print(f"총 보상: {total_reward}")

# 환경 종료
env.close()

